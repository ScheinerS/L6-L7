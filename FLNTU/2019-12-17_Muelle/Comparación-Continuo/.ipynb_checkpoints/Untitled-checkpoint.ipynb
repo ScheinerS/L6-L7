{
 "cells": [
  {
   "cell_type": "code",
   "execution_count": 12,
   "metadata": {},
   "outputs": [],
   "source": [
    "import sys\n",
    "import os\n",
    "import pandas as pd\n",
    "import numpy as np\n",
    "import matplotlib.pyplot as plt\n",
    "from scipy.odr import Model,RealData,ODR\n",
    "#import datetime as dt\n",
    "import matplotlib.dates as md\n",
    "\n",
    "#path = os.path.dirname(os.path.realpath('__file__'))\n",
    "#sys.path.append(path)\n",
    "\n",
    "TitleSize = 15\n",
    "AxisLabelSize = 12\n",
    "LegendSize = 12\n",
    "NumberSize = 12\n",
    "\n",
    "plt.close('all')"
   ]
  },
  {
   "cell_type": "code",
   "execution_count": 14,
   "metadata": {},
   "outputs": [],
   "source": [
    "#obs_vs_ntu = np.loadtxt('obs_ss__(fnu)vs_eco_(ntu).csv', skiprows=1, delimiter=',', unpack=True)\n",
    "\n",
    "# OBS:\n",
    "#obs = obs_vs_ntu[0]\n",
    "#obs_err = obs_vs_ntu[1]\n",
    "\n",
    "# ECO:\n",
    "#eco = obs_vs_ntu[2]\n",
    "#eco_err = obs_vs_ntu[3]\n",
    "\n",
    "# Estaciones:\n",
    "stations = np.loadtxt('OBS_and_ECO_stations.csv', skiprows=1, delimiter=',', unpack=True)\n",
    "obs_stations = stations[0]\n",
    "eco_stations = stations[1]"
   ]
  },
  {
   "cell_type": "code",
   "execution_count": null,
   "metadata": {},
   "outputs": [],
   "source": [
    "def linear(p0,x):\n",
    "    a, b = p0\n",
    "    return a*x\n",
    "\n",
    "def ODR_Fit(function,x,y,x_err,y_err):\n",
    "    print('Fit:\\t',function.__name__,'\\n')\n",
    "    # Create a model for fitting.\n",
    "    model = Model(function)\n",
    "    # Create a RealData object using our initiated data from above.\n",
    "    D = RealData(x, y, sx=x_err, sy=y_err)\n",
    "    # Set up ODR with the model and data.\n",
    "    odr = ODR(D, model, beta0=[0.7, 0.])\n",
    "    # Run the regression.\n",
    "    out = odr.run()\n",
    "    # Use the in-built pprint method to give us results.\n",
    "    out.pprint()\n",
    "    print('\\n')\n",
    "    return out\n",
    "\n",
    "print(40*'*'+'\\n\\t\\tOBS\\n'+40*'*')\n",
    "fit_OBS = ODR_Fit(linear, ntu_OBS, ntu_ECO, ntu_OBS_err, ntu_ECO_err)\n",
    "\n",
    "print(40*'*'+'\\n\\t\\tHACH\\n'+40*'*')\n",
    "fit_HACH = ODR_Fit(linear, ntu_HACH, ntu_ECO, ntu_HACH_err, ntu_ECO_err)\n",
    "\n",
    "#%%\n",
    "# Gráfico OBS-ECO:\n",
    "\n",
    "plt.figure()\n",
    "\n",
    "plt.errorbar(ntu_OBS, ntu_ECO, xerr=ntu_OBS_err, yerr=ntu_ECO_err, fmt='o',color='blue', label=r'', ms=5.5, zorder=0)\n",
    "\n",
    "[m, b] = fit_OBS.beta\n",
    "x = np.linspace(0, max(ntu_OBS), 50)\n",
    "y = m*x + b\n",
    "\n",
    "plt.plot(x,y, color='skyblue', label=r'%.4g $x$ + %.4g'%(m,b))\n",
    "\n",
    "plt.legend(loc='best', fontsize=LegendSize)\n",
    "plt.title(r'2020-12-17 -- Muelle (Stations Mean)', fontsize=TitleSize)\n",
    "plt.xlabel(r'OBS501 (2016) [SS] (FNU)', fontsize=AxisLabelSize)\n",
    "plt.ylabel(r'ECO (NTU)', fontsize=AxisLabelSize)\n",
    "plt.grid(axis='both', color='k', linestyle='dashed', linewidth=2, alpha=0.2)\n",
    "plt.show()\n",
    "\n",
    "if Linux:\n",
    "    plt.savefig(path + '/' + campaign + '_OBS-ECO' +  '.png')"
   ]
  }
 ],
 "metadata": {
  "kernelspec": {
   "display_name": "Python 3",
   "language": "python",
   "name": "python3"
  },
  "language_info": {
   "codemirror_mode": {
    "name": "ipython",
    "version": 3
   },
   "file_extension": ".py",
   "mimetype": "text/x-python",
   "name": "python",
   "nbconvert_exporter": "python",
   "pygments_lexer": "ipython3",
   "version": "3.7.6"
  }
 },
 "nbformat": 4,
 "nbformat_minor": 4
}
