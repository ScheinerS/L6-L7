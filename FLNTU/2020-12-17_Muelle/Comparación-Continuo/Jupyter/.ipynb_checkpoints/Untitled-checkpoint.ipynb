{
 "cells": [
  {
   "cell_type": "code",
   "execution_count": null,
   "metadata": {},
   "outputs": [],
   "source": [
    "import sys\n",
    "import os\n",
    "import pandas as pd\n",
    "import numpy as np\n",
    "import matplotlib.pyplot as plt\n",
    "from scipy.odr import Model,RealData,ODR\n",
    "#import datetime as dt\n",
    "import matplotlib.dates as md\n",
    "\n",
    "#path = os.path.dirname(os.path.realpath('__file__'))\n",
    "#sys.path.append(path)\n",
    "\n",
    "TitleSize = 15\n",
    "AxisLabelSize = 12\n",
    "LegendSize = 12\n",
    "NumberSize = 12\n",
    "\n",
    "plt.close('all')"
   ]
  },
  {
   "cell_type": "code",
   "execution_count": null,
   "metadata": {},
   "outputs": [],
   "source": []
  }
 ],
 "metadata": {
  "kernelspec": {
   "display_name": "Python 3",
   "language": "python",
   "name": "python3"
  },
  "language_info": {
   "codemirror_mode": {
    "name": "ipython",
    "version": 3
   },
   "file_extension": ".py",
   "mimetype": "text/x-python",
   "name": "python",
   "nbconvert_exporter": "python",
   "pygments_lexer": "ipython3",
   "version": "3.7.6"
  }
 },
 "nbformat": 4,
 "nbformat_minor": 4
}
